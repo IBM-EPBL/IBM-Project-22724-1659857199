
x_train = train_datagen.flow_from_directory(
    r'/content/dataset/TRAIN_SET/TRAIN_SET',
target_size=(64, 64),batch_size=5,color_mode='rgb',class_mode='sparse')
#performing data agumentation to test data
x_test = test_datagen.flow_from_directory(
r'/content/dataset/TEST_SET',
target_size=(64, 64), batch_size=5,color_mode='rgb',class_mode='sparse')

